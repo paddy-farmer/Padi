{
 "cells": [
  {
   "cell_type": "code",
   "execution_count": 1,
   "metadata": {},
   "outputs": [],
   "source": [
    "from skimage.morphology import binary_closing, binary_opening, erosion\n",
    "import numpy as np"
   ]
  },
  {
   "cell_type": "code",
   "execution_count": 2,
   "metadata": {},
   "outputs": [],
   "source": [
    "selem = np.zeros((25, 25))\n",
    "\n",
    "ci,cj=12, 12\n",
    "cr=13\n",
    "\n",
    "# Create index arrays to z\n",
    "I,J=np.meshgrid(np.arange(selem.shape[0]),np.arange(selem.shape[1]))\n",
    "\n",
    "# calculate distance of all points to centre\n",
    "dist=np.sqrt((I-ci)**2+(J-cj)**2)\n",
    "\n",
    "# Assign value of 1 to those points where dist<cr:\n",
    "selem[np.where(dist<=cr)]=1"
   ]
  },
  {
   "cell_type": "code",
   "execution_count": 3,
   "metadata": {},
   "outputs": [],
   "source": [
    "%matplotlib inline\n",
    "import numpy as np\n",
    "from scipy import ndimage\n",
    "from PIL import Image\n",
    "import os"
   ]
  },
  {
   "cell_type": "code",
   "execution_count": 8,
   "metadata": {},
   "outputs": [],
   "source": [
    "def bg_removal(input_path, output_path): \n",
    "    \"\"\"\n",
    "    remove background from image using erosion \n",
    "    Args:\n",
    "        input_path: input image folder path\n",
    "        output_path: path to save the background removed image\n",
    "    Returns:\n",
    "        background removed image(s) \n",
    "    \"\"\"\n",
    "    os_path = os.listdir(input_path)\n",
    "    for img_name in os_path[:]:\n",
    "        bg_frac = 0\n",
    "        thres = 220\n",
    "        img = Image.open(input_path + img_name)\n",
    "        im_arr = np.array(img)\n",
    "\n",
    "        R = im_arr[:, :, 0]\n",
    "        G = im_arr[:, :, 1]\n",
    "        B = im_arr[:, :, 2]\n",
    "        while bg_frac < 0.2: \n",
    "            bg_mask = ((R>thres) | (B>thres))# & (G < 100)\n",
    "            bg_frac = bg_mask.sum()/len(bg_mask.flatten())\n",
    "            thres -= 5\n",
    "        # we use opening first since our mask is reversed (the foreground and background are reversed here)\n",
    "        bg_mask = binary_closing(erosion(binary_opening(bg_mask, selem), np.ones((3, 3))), np.ones((5,5)))\n",
    "\n",
    "        #Get biggest blob\n",
    "        label, num_label = ndimage.label(~bg_mask)\n",
    "        size = np.bincount(label.ravel())\n",
    "        biggest_label = size[1:].argmax() + 1\n",
    "        bg_mask = label == biggest_label\n",
    "        \n",
    "        im_arr[~bg_mask, 0] = 0\n",
    "        im_arr[~bg_mask, 1] = 0\n",
    "        im_arr[~bg_mask, 2] = 0\n",
    "        \n",
    "        img = Image.fromarray(im_arr)\n",
    "        img.save(output_path + img_name)\n",
    "  \n",
    "   "
   ]
  },
  {
   "cell_type": "code",
   "execution_count": 10,
   "metadata": {},
   "outputs": [],
   "source": [
    "bg_removal(\"rld_img_cb/bacterial_leaf_blight/\", \"bgr_rmv_erosion/bacterial_leaf_blight/\")\n",
    "bg_removal(\"rld_img_cb/blast/\", \"bgr_rmv_erosion/blast/\")\n",
    "bg_removal(\"rld_img_cb/brown_spot/\", \"bgr_rmv_erosion/brown_spot/\")\n",
    "bg_removal(\"rld_img_cb/healthy/\", \"bgr_rmv_erosion/healthy/\")\n",
    "bg_removal(\"rld_img_cb/leaf_smut/\", \"bgr_rmv_erosion/leaf_smut/\")\n",
    "bg_removal(\"rld_img_cb/tungro/\", \"bgr_rmv_erosion/tungro/\")"
   ]
  }
 ],
 "metadata": {
  "interpreter": {
   "hash": "916dbcbb3f70747c44a77c7bcd40155683ae19c65e1c03b4aa3499c5328201f1"
  },
  "kernelspec": {
   "display_name": "Python 3.8.10 64-bit",
   "language": "python",
   "name": "python3"
  },
  "language_info": {
   "codemirror_mode": {
    "name": "ipython",
    "version": 3
   },
   "file_extension": ".py",
   "mimetype": "text/x-python",
   "name": "python",
   "nbconvert_exporter": "python",
   "pygments_lexer": "ipython3",
   "version": "3.8.10"
  },
  "orig_nbformat": 4
 },
 "nbformat": 4,
 "nbformat_minor": 2
}
