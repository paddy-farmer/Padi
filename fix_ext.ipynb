{
 "cells": [
  {
   "cell_type": "markdown",
   "metadata": {},
   "source": [
    "this code is taken from this site \"https://askubuntu.com/questions/631900/correct-file-extensions\""
   ]
  },
  {
   "cell_type": "code",
   "execution_count": 1,
   "metadata": {},
   "outputs": [],
   "source": [
    "#!/usr/bin/env python3\n",
    "import os\n",
    "import imghdr\n",
    "import shutil\n",
    "import sys\n",
    "\n",
    "dir = \"rice_leaf_diseases/\"\n",
    "\n",
    "\n",
    "def fix_extension(directory):\n",
    "    \"\"\"\n",
    "    fix extension of file \n",
    "    Args:\n",
    "        directory: path that contains the file which extension need fixes\n",
    "    Returns: \n",
    "        res: file with fixed extension\n",
    "    \"\"\"\n",
    "    for root, dirs, files in os.walk(directory):\n",
    "        for name in files:\n",
    "            file = root+\"/\"+name\n",
    "            # find files with the (incorrect) extension to rename\n",
    "            if name.endswith(\".jpeg\"):\n",
    "                # find the correct extension\n",
    "                ftype = imghdr.what(file)\n",
    "                # rename the file\n",
    "                if ftype != None:\n",
    "                    shutil.move(file, file.replace(\"jpeg\",ftype))\n",
    "                # in case it can't be determined, mention it in the output\n",
    "                else:\n",
    "                    print(\"could not determine: \"+file)\n"
   ]
  },
  {
   "cell_type": "code",
   "execution_count": null,
   "metadata": {},
   "outputs": [],
   "source": [
    "fix_extension(dir)"
   ]
  }
 ],
 "metadata": {
  "interpreter": {
   "hash": "916dbcbb3f70747c44a77c7bcd40155683ae19c65e1c03b4aa3499c5328201f1"
  },
  "kernelspec": {
   "display_name": "Python 3.8.10 64-bit",
   "language": "python",
   "name": "python3"
  },
  "language_info": {
   "codemirror_mode": {
    "name": "ipython",
    "version": 3
   },
   "file_extension": ".py",
   "mimetype": "text/x-python",
   "name": "python",
   "nbconvert_exporter": "python",
   "pygments_lexer": "ipython3",
   "version": "3.8.10"
  },
  "orig_nbformat": 4
 },
 "nbformat": 4,
 "nbformat_minor": 2
}
