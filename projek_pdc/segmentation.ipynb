{
 "cells": [
  {
   "cell_type": "code",
   "execution_count": 10,
   "metadata": {},
   "outputs": [],
   "source": [
    "import matplotlib.pyplot as plt\n",
    "import cv2\n",
    "import os"
   ]
  },
  {
   "cell_type": "code",
   "execution_count": 11,
   "metadata": {},
   "outputs": [],
   "source": [
    "img = cv2.imread(\"rld_img_cb/bacterial_leaf_blight/DSC_0365.JPG\")\n",
    "rgb_img = cv2.cvtColor(img, cv2.COLOR_BGR2RGB)\n",
    "hsv_img = cv2.cvtColor(rgb_img, cv2.COLOR_RGB2HSV)"
   ]
  },
  {
   "cell_type": "code",
   "execution_count": 12,
   "metadata": {},
   "outputs": [],
   "source": [
    "# light_blue = (22, 70, 0)\n",
    "# dark_blue = (128, 255, 255)\n",
    "# You can use the following values for green\n",
    "# light_green = (40, 40, 40)\n",
    "# dark_greek = (70, 255, 255)\n",
    "\n",
    "\n",
    "# light_yellow = (0, 0, 80)\n",
    "# dark_yellow = (32, 255, 255)\n",
    "lower_bound_blb = (0, 30, 80)\n",
    "upper_bound_blb = (32, 255, 255)\n",
    "\n",
    "mask = cv2.inRange(hsv_img, lower_bound_blb, upper_bound_blb)"
   ]
  },
  {
   "cell_type": "code",
   "execution_count": 13,
   "metadata": {},
   "outputs": [],
   "source": [
    "result = cv2.bitwise_and(hsv_img, hsv_img, mask=mask)\n",
    "result = cv2.cvtColor(result, cv2.COLOR_HSV2RGB)\n",
    "result = cv2.cvtColor(result, cv2.COLOR_RGB2BGR)\n"
   ]
  },
  {
   "cell_type": "code",
   "execution_count": 1,
   "metadata": {},
   "outputs": [
    {
     "ename": "NameError",
     "evalue": "name 'plt' is not defined",
     "output_type": "error",
     "traceback": [
      "\u001b[0;31m---------------------------------------------------------------------------\u001b[0m",
      "\u001b[0;31mNameError\u001b[0m                                 Traceback (most recent call last)",
      "\u001b[1;32m/home/ricky/Documents/Padi/projek_pdc/segmentation.ipynb Cell 5'\u001b[0m in \u001b[0;36m<cell line: 1>\u001b[0;34m()\u001b[0m\n\u001b[0;32m----> <a href='vscode-notebook-cell:/home/ricky/Documents/Padi/projek_pdc/segmentation.ipynb#ch0000004?line=0'>1</a>\u001b[0m fig, axes \u001b[39m=\u001b[39m plt\u001b[39m.\u001b[39msubplots(\u001b[39m1\u001b[39m, \u001b[39m3\u001b[39m, figsize\u001b[39m=\u001b[39m(\u001b[39m30\u001b[39m, \u001b[39m10\u001b[39m))\n\u001b[1;32m      <a href='vscode-notebook-cell:/home/ricky/Documents/Padi/projek_pdc/segmentation.ipynb#ch0000004?line=1'>2</a>\u001b[0m ax \u001b[39m=\u001b[39m axes\u001b[39m.\u001b[39mflatten()\n\u001b[1;32m      <a href='vscode-notebook-cell:/home/ricky/Documents/Padi/projek_pdc/segmentation.ipynb#ch0000004?line=3'>4</a>\u001b[0m \u001b[39m# Plotting the original image\u001b[39;00m\n",
      "\u001b[0;31mNameError\u001b[0m: name 'plt' is not defined"
     ]
    }
   ],
   "source": [
    "# fig, axes = plt.subplots(1, 3, figsize=(30, 10))\n",
    "# ax = axes.flatten()\n",
    " \n",
    "# # Plotting the original image\n",
    "# ax[0].imshow(rgb_img, cmap=\"gray\")\n",
    "# ax[0].set_title(\"Original Image\")\n",
    " \n",
    "# # Plotting the segmented - 100 iterations image\n",
    "# ax[1].imshow(result, cmap=\"gray\")\n",
    "\n",
    "# # Plotting the final level set\n",
    "# ax[2].imshow(hsv_img, cmap=\"gray\")\n",
    "# plt.show()\n",
    "\n",
    "# # ax[3].imshow(, cmap=\"gray\")\n",
    "# # plt.show()\n",
    "\n",
    " "
   ]
  },
  {
   "cell_type": "code",
   "execution_count": 15,
   "metadata": {},
   "outputs": [],
   "source": [
    "def segment_in_range(directory, lower_bound, upper_bound, save_path):\n",
    "    \"\"\"\n",
    "    Segment image to only show the color between lower bound and upper bound color\n",
    "    Args:\n",
    "        directory: path that contains the image file\n",
    "        lower_bound: lower bound for lowest accepted color. example: (0,0,0)\n",
    "        upper_bound: upper bound for highest accepted color. example: (255,255,255)\n",
    "        save_path: folder to save segmented image\n",
    "    Returns: \n",
    "        segmented image that will be saved in the selected folder\n",
    "    \"\"\"\n",
    "    for root, dirs, files in os.walk(directory):\n",
    "        for name in files:\n",
    "            file = root+\"/\"+name\n",
    "            img = cv2.imread(file)\n",
    "            rgb_img = cv2.cvtColor(img, cv2.COLOR_BGR2RGB)\n",
    "            hsv_img = cv2.cvtColor(rgb_img, cv2.COLOR_RGB2HSV)\n",
    "            mask = cv2.inRange(hsv_img, lower_bound, upper_bound)\n",
    "            result = cv2.bitwise_and(hsv_img, hsv_img, mask=mask)\n",
    "            result = cv2.cvtColor(result, cv2.COLOR_HSV2RGB)\n",
    "            bgr_img = cv2.cvtColor(result, cv2.COLOR_RGB2BGR)\n",
    "            cv2.imwrite(save_path + \"/\" + name, bgr_img)"
   ]
  },
  {
   "cell_type": "code",
   "execution_count": 16,
   "metadata": {},
   "outputs": [],
   "source": [
    "# lower_bound_blb = (0, 30, 80)\n",
    "# upper_bound_blb = (32, 255, 255)\n",
    "# segment_in_range(\"rld_img_cb/bacterial_leaf_blight\", lower_bound_blb, upper_bound_blb, \"segment/bacterial_leaf_blight\")"
   ]
  },
  {
   "cell_type": "code",
   "execution_count": 17,
   "metadata": {},
   "outputs": [],
   "source": [
    "# lower_bound_blast = (0, 30, 80)\n",
    "# upper_bound_blast = (32, 255, 255)\n",
    "\n",
    "# segment_in_range(\"rld_img_cb/blast\", lower_bound_blast, upper_bound_blast, \"segment/blast\")"
   ]
  },
  {
   "cell_type": "code",
   "execution_count": 18,
   "metadata": {},
   "outputs": [],
   "source": [
    "# lower_bound_brown_spot = (0, 80, 0)\n",
    "# upper_bound_brown_spot = (30, 255, 255)\n",
    "\n",
    "# segment_in_range(\"rld_img_cb/brown_spot\", lower_bound_brown_spot, upper_bound_brown_spot, \"segment/brown_spot\")\n",
    "\n"
   ]
  },
  {
   "cell_type": "code",
   "execution_count": 19,
   "metadata": {},
   "outputs": [],
   "source": [
    "# lower_bound_healthy = (0, 100, 0)\n",
    "# upper_bound_healthy = (84, 255, 255)\n",
    "\n",
    "# segment_in_range(\"rld_img_cb/healthy\", lower_bound_healthy, upper_bound_healthy, \"segment/healthy\")\n",
    "\n"
   ]
  },
  {
   "cell_type": "code",
   "execution_count": 20,
   "metadata": {},
   "outputs": [],
   "source": [
    "# lower_bound_leaf_smut = (0, 30, 1)\n",
    "# upper_bound_leaf_smut = (25, 255, 255)\n",
    "\n",
    "# segment_in_range(\"rld_img_cb/leaf_smut\", lower_bound_leaf_smut, upper_bound_leaf_smut, \"segment/leaf_smut\")\n",
    "\n"
   ]
  },
  {
   "cell_type": "code",
   "execution_count": 21,
   "metadata": {},
   "outputs": [],
   "source": [
    "# lower_bound_tungro = (0, 100, 80)\n",
    "# upper_bound_tungro = (32, 255, 255)\n",
    "\n",
    "# segment_in_range(\"rld_img_cb/tungro\", lower_bound_tungro, upper_bound_tungro, \"segment/tungro\")\n",
    "\n"
   ]
  },
  {
   "cell_type": "markdown",
   "metadata": {},
   "source": []
  }
 ],
 "metadata": {
  "interpreter": {
   "hash": "916dbcbb3f70747c44a77c7bcd40155683ae19c65e1c03b4aa3499c5328201f1"
  },
  "kernelspec": {
   "display_name": "Python 3.8.10 64-bit",
   "language": "python",
   "name": "python3"
  },
  "language_info": {
   "codemirror_mode": {
    "name": "ipython",
    "version": 3
   },
   "file_extension": ".py",
   "mimetype": "text/x-python",
   "name": "python",
   "nbconvert_exporter": "python",
   "pygments_lexer": "ipython3",
   "version": "3.8.10"
  },
  "orig_nbformat": 4
 },
 "nbformat": 4,
 "nbformat_minor": 2
}
