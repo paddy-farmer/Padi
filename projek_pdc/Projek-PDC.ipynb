{
 "cells": [
  {
   "cell_type": "code",
   "execution_count": 2,
   "metadata": {},
   "outputs": [],
   "source": [
    "#import libraries \n",
    "import matplotlib.pyplot as plt\n",
    "import numpy as np\n",
    "\n",
    "import skimage.io\n",
    "from skimage.color import rgb2hsv\n",
    "from skimage.exposure import equalize_adapthist\n",
    "\n",
    "import cv2\n",
    "\n",
    "import os\n",
    "\n",
    "from rembg.bg import remove\n",
    "import io\n",
    "from PIL import Image\n",
    "from PIL import ImageFile\n",
    "ImageFile.LOAD_TRUNCATED_IMAGES = True\n",
    "\n",
    "# print(os.listdir(\"rice_leaf_diseases\"))\n"
   ]
  },
  {
   "cell_type": "code",
   "execution_count": 3,
   "metadata": {},
   "outputs": [],
   "source": [
    "#path folder penyakit\n",
    "ori_blb_path = \"rice_leaf_diseases/train/bacterial_leaf_blight/\"\n",
    "ori_bs_path = \"rice_leaf_diseases/train/brown_spot/\"\n",
    "ori_ls_path = \"rice_leaf_diseases/train/leaf_smut/\"\n",
    "\n",
    "# path setelah color balanced\n",
    "cb_blb_path = \"rld_img_cb/blb/\"\n",
    "cb_bs_path = \"rld_img_cb/bs/\"\n",
    "cb_ls_path = \"rld_img_cb/ls/\"\n",
    "\n",
    "# path setelah histogram equalization\n",
    "heq_blb_path = \"rld_img_hequal/blb/\"\n",
    "heq_bs_path = \"rld_img_hequal/bs/\"\n",
    "heq_ls_path = \"rld_img_hequal/ls/\"\n",
    "\n",
    "# path setelah rembg\n",
    "r_blb_path = \"rld_img_rembg/blb/\"\n",
    "r_bs_path = \"rld_img_rembg/bs/\"\n",
    "r_ls_path = \"rld_img_rembg/ls/\""
   ]
  },
  {
   "cell_type": "code",
   "execution_count": 4,
   "metadata": {},
   "outputs": [],
   "source": [
    "import colorcorrect.algorithm as cca\n",
    "from colorcorrect.util import from_pil, to_pil\n",
    "\n",
    "img_test = Image.open(ori_blb_path + '/' + \"DSC_0365.JPG\")\n",
    "# to_pil(cca.max_white(from_pil(img_test))).show()\n",
    "\n",
    "def colorBalance(image, name, path):\n",
    "    \"\"\"\n",
    "    Implement cca.max_white color correction algorithm \n",
    "      using colorcorrect library\n",
    "    Args:\n",
    "        image: image object that will be color balanced\n",
    "        name: filename of the saved color balanced image\n",
    "        path: color balanced image destination folder\n",
    "    Returns: \n",
    "    \"\"\"\n",
    "\n",
    "    to_pil(cca.max_white(from_pil(image))).save(path + name)\n",
    "\n",
    "\n",
    "# colorBalance(img_test, \"DSC_0365.JPG\", cb_blb_path)\n"
   ]
  },
  {
   "cell_type": "code",
   "execution_count": 12,
   "metadata": {},
   "outputs": [],
   "source": [
    "# # image color balancing\n",
    "# blb_os_path = os.listdir(ori_blb_path)\n",
    "# for img_name in blb_os_path[:]:\n",
    "#     read_img = Image.open(ori_blb_path + img_name)\n",
    "#     colorBalance(read_img, img_name, cb_blb_path)\n",
    "\n",
    "# bs_os_path = os.listdir(ori_bs_path)\n",
    "# for img_name in bs_os_path[:]:\n",
    "#     read_img = Image.open(ori_bs_path + img_name)\n",
    "#     colorBalance(read_img, img_name, cb_bs_path)\n",
    "\n",
    "# ls_os_path = os.listdir(ori_ls_path)\n",
    "# for img_name in ls_os_path[:]:\n",
    "#     read_img = Image.open(ori_ls_path + img_name)\n",
    "#     colorBalance(read_img, img_name, cb_ls_path)"
   ]
  },
  {
   "cell_type": "code",
   "execution_count": 7,
   "metadata": {},
   "outputs": [],
   "source": [
    "# histogram equalization based on https://www.etutorialspoint.com/index.php/311-python-opencv-histogram-equalization\n",
    "\n",
    "\n",
    "def equalize_hist(image):\n",
    "    \"\"\"\n",
    "    Image enhancement using histogram equalization discrete function \n",
    "    Args:\n",
    "        path_img_input: path of the input image folder directory in string\n",
    "        path_save: destination path of equalized background image \n",
    "    Returns: \n",
    "        hist_eq: image after histogram equalization\n",
    "    \"\"\"\n",
    "\n",
    "    #convert to YUV \n",
    "    img_yuv = cv2.cvtColor(image, cv2.COLOR_BGR2YUV)\n",
    "\n",
    "    # apply equalization histogram\n",
    "    img_yuv[:,:,0] = cv2.equalizeHist(img_yuv[:,:,0])\n",
    "    hist_eq = cv2.cvtColor(img_yuv, cv2.COLOR_YUV2BGR)\n",
    "\n",
    "    return hist_eq\n",
    "\n",
    "\n",
    "# blb_os_path = os.listdir(cb_blb_path)\n",
    "# for img_name in blb_os_path[:]:\n",
    "#     read_img = cv2.imread(cb_blb_path + img_name)\n",
    "\n",
    "#     hist_eq = equalize_hist(read_img)\n",
    "\n",
    "#     cv2.imwrite(heq_blb_path + img_name, hist_eq)\n",
    "\n",
    "\n",
    "bs_os_path = os.listdir(cb_bs_path)\n",
    "for img_name in bs_os_path[:]:\n",
    "    read_img = cv2.imread(cb_bs_path + img_name)\n",
    "    hist_eq = equalize_hist(read_img)\n",
    "\n",
    "    cv2.imwrite(heq_bs_path + img_name, hist_eq)\n",
    "\n",
    "ls_os_path = os.listdir(cb_ls_path)\n",
    "for img_name in ls_os_path[:]:\n",
    "    read_img = cv2.imread(cb_ls_path + img_name)\n",
    "    hist_eq = equalize_hist(read_img)\n",
    "\n",
    "    cv2.imwrite(heq_ls_path + img_name, hist_eq)"
   ]
  },
  {
   "cell_type": "code",
   "execution_count": 9,
   "metadata": {},
   "outputs": [],
   "source": [
    "def preprocessedImage(img_path, rmv_bg_img_path):\n",
    "    \"\"\"\n",
    "    Remove background from image using rembg library\n",
    "    Args:\n",
    "        img_path: path of the image folder directory in string\n",
    "        rmv_bg_img_path: destination of removed background path\n",
    "    Returns: \n",
    "    \"\"\"\n",
    "    os_path = os.listdir(img_path)\n",
    "    for img_name in os_path[:]:\n",
    "        read_img = cv2.imread(img_path + img_name) #read image from path\n",
    "\n",
    "        r_bg_img = remove(read_img)\n",
    "\n",
    "        # final_img = cv2.cvtColor(r_bg_img, cv2.COLOR_RGB2BGR)\n",
    "\n",
    "\n",
    "        cv2.imwrite(rmv_bg_img_path + img_name, r_bg_img)\n",
    "\n",
    "        \n",
    "#function display all images\n",
    "def displayImg(array):\n",
    "    \"\"\"\n",
    "    Display all images from an array\n",
    "    Args:\n",
    "        array: array that contains image data type\n",
    "    Returns: Image displayed using matlotlib\n",
    "    \"\"\"\n",
    "    n = len(array)\n",
    "    # f = plt.figure()\n",
    "    for i in range(n):\n",
    "        plt.figure()\n",
    "        plt.imshow(array[i])\n",
    "        plt.show(block = True)\n"
   ]
  },
  {
   "cell_type": "code",
   "execution_count": 14,
   "metadata": {},
   "outputs": [
    {
     "name": "stderr",
     "output_type": "stream",
     "text": [
      "2022-04-09 11:44:16.368251653 [W:onnxruntime:Default, onnxruntime_pybind_state.cc:509 CreateExecutionProviderInstance] Failed to create TensorrtExecutionProvider. Please reference https://onnxruntime.ai/docs/execution-providers/TensorRT-ExecutionProvider.html#requirements to ensure all dependencies are met.\n",
      "2022-04-09 11:44:16.368409682 [W:onnxruntime:Default, onnxruntime_pybind_state.cc:535 CreateExecutionProviderInstance] Failed to create CUDAExecutionProvider. Please reference https://onnxruntime.ai/docs/reference/execution-providers/CUDA-ExecutionProvider.html#requirements to ensure all dependencies are met.\n"
     ]
    },
    {
     "ename": "KeyboardInterrupt",
     "evalue": "",
     "output_type": "error",
     "traceback": [
      "\u001b[0;31m---------------------------------------------------------------------------\u001b[0m",
      "\u001b[0;31mKeyboardInterrupt\u001b[0m                         Traceback (most recent call last)",
      "\u001b[1;32m/home/ricky/Documents/Padi/projek_pdc/Projek-PDC.ipynb Cell 7'\u001b[0m in \u001b[0;36m<cell line: 1>\u001b[0;34m()\u001b[0m\n\u001b[0;32m----> <a href='vscode-notebook-cell:/home/ricky/Documents/Padi/projek_pdc/Projek-PDC.ipynb#ch0000006?line=0'>1</a>\u001b[0m preprocessedImage(ori_blb_path, r_blb_path)\n",
      "\u001b[1;32m/home/ricky/Documents/Padi/projek_pdc/Projek-PDC.ipynb Cell 6'\u001b[0m in \u001b[0;36mpreprocessedImage\u001b[0;34m(img_path, rmv_bg_img_path)\u001b[0m\n\u001b[1;32m     <a href='vscode-notebook-cell:/home/ricky/Documents/Padi/projek_pdc/Projek-PDC.ipynb#ch0000005?line=9'>10</a>\u001b[0m \u001b[39mfor\u001b[39;00m img_name \u001b[39min\u001b[39;00m os_path[:]:\n\u001b[1;32m     <a href='vscode-notebook-cell:/home/ricky/Documents/Padi/projek_pdc/Projek-PDC.ipynb#ch0000005?line=10'>11</a>\u001b[0m     read_img \u001b[39m=\u001b[39m cv2\u001b[39m.\u001b[39mimread(img_path \u001b[39m+\u001b[39m img_name) \u001b[39m#read image from path\u001b[39;00m\n\u001b[0;32m---> <a href='vscode-notebook-cell:/home/ricky/Documents/Padi/projek_pdc/Projek-PDC.ipynb#ch0000005?line=12'>13</a>\u001b[0m     r_bg_img \u001b[39m=\u001b[39m remove(read_img)\n\u001b[1;32m     <a href='vscode-notebook-cell:/home/ricky/Documents/Padi/projek_pdc/Projek-PDC.ipynb#ch0000005?line=14'>15</a>\u001b[0m     \u001b[39m# final_img = cv2.cvtColor(r_bg_img, cv2.COLOR_RGB2BGR)\u001b[39;00m\n\u001b[1;32m     <a href='vscode-notebook-cell:/home/ricky/Documents/Padi/projek_pdc/Projek-PDC.ipynb#ch0000005?line=17'>18</a>\u001b[0m     cv2\u001b[39m.\u001b[39mimwrite(rmv_bg_img_path \u001b[39m+\u001b[39m img_name, r_bg_img)\n",
      "File \u001b[0;32m~/.local/lib/python3.8/site-packages/rembg/bg.py:91\u001b[0m, in \u001b[0;36mremove\u001b[0;34m(data, alpha_matting, alpha_matting_foreground_threshold, alpha_matting_background_threshold, alpha_matting_erode_size, session, only_mask)\u001b[0m\n\u001b[1;32m     <a href='file:///home/ricky/.local/lib/python3.8/site-packages/rembg/bg.py?line=87'>88</a>\u001b[0m     \u001b[39mraise\u001b[39;00m \u001b[39mValueError\u001b[39;00m(\u001b[39m\"\u001b[39m\u001b[39mInput type \u001b[39m\u001b[39m{}\u001b[39;00m\u001b[39m is not supported.\u001b[39m\u001b[39m\"\u001b[39m\u001b[39m.\u001b[39mformat(\u001b[39mtype\u001b[39m(data)))\n\u001b[1;32m     <a href='file:///home/ricky/.local/lib/python3.8/site-packages/rembg/bg.py?line=89'>90</a>\u001b[0m \u001b[39mif\u001b[39;00m session \u001b[39mis\u001b[39;00m \u001b[39mNone\u001b[39;00m:\n\u001b[0;32m---> <a href='file:///home/ricky/.local/lib/python3.8/site-packages/rembg/bg.py?line=90'>91</a>\u001b[0m     session \u001b[39m=\u001b[39m ort_session(\u001b[39m\"\u001b[39;49m\u001b[39mu2net\u001b[39;49m\u001b[39m\"\u001b[39;49m)\n\u001b[1;32m     <a href='file:///home/ricky/.local/lib/python3.8/site-packages/rembg/bg.py?line=92'>93</a>\u001b[0m mask \u001b[39m=\u001b[39m predict(session, np\u001b[39m.\u001b[39marray(img\u001b[39m.\u001b[39mconvert(\u001b[39m\"\u001b[39m\u001b[39mRGB\u001b[39m\u001b[39m\"\u001b[39m)))\u001b[39m.\u001b[39mconvert(\u001b[39m\"\u001b[39m\u001b[39mL\u001b[39m\u001b[39m\"\u001b[39m)\n\u001b[1;32m     <a href='file:///home/ricky/.local/lib/python3.8/site-packages/rembg/bg.py?line=93'>94</a>\u001b[0m mask \u001b[39m=\u001b[39m mask\u001b[39m.\u001b[39mresize(img\u001b[39m.\u001b[39msize, Image\u001b[39m.\u001b[39mLANCZOS)\n",
      "File \u001b[0;32m~/.local/lib/python3.8/site-packages/rembg/detect.py:35\u001b[0m, in \u001b[0;36mort_session\u001b[0;34m(model_name)\u001b[0m\n\u001b[1;32m     <a href='file:///home/ricky/.local/lib/python3.8/site-packages/rembg/detect.py?line=32'>33</a>\u001b[0m         gdown\u001b[39m.\u001b[39mdownload(url, \u001b[39mstr\u001b[39m(path), use_cookies\u001b[39m=\u001b[39m\u001b[39mFalse\u001b[39;00m)\n\u001b[1;32m     <a href='file:///home/ricky/.local/lib/python3.8/site-packages/rembg/detect.py?line=33'>34</a>\u001b[0m \u001b[39melse\u001b[39;00m:\n\u001b[0;32m---> <a href='file:///home/ricky/.local/lib/python3.8/site-packages/rembg/detect.py?line=34'>35</a>\u001b[0m     hashing \u001b[39m=\u001b[39m hashlib\u001b[39m.\u001b[39mnew(\u001b[39m\"\u001b[39m\u001b[39mmd5\u001b[39m\u001b[39m\"\u001b[39m, path\u001b[39m.\u001b[39;49mread_bytes(), usedforsecurity\u001b[39m=\u001b[39m\u001b[39mFalse\u001b[39;00m)\n\u001b[1;32m     <a href='file:///home/ricky/.local/lib/python3.8/site-packages/rembg/detect.py?line=35'>36</a>\u001b[0m     \u001b[39mif\u001b[39;00m hashing\u001b[39m.\u001b[39mhexdigest() \u001b[39m!=\u001b[39m md5:\n\u001b[1;32m     <a href='file:///home/ricky/.local/lib/python3.8/site-packages/rembg/detect.py?line=36'>37</a>\u001b[0m         \u001b[39mwith\u001b[39;00m redirect_stdout(sys\u001b[39m.\u001b[39mstderr):\n",
      "File \u001b[0;32m/usr/lib/python3.8/pathlib.py:1230\u001b[0m, in \u001b[0;36mPath.read_bytes\u001b[0;34m(self)\u001b[0m\n\u001b[1;32m   <a href='file:///usr/lib/python3.8/pathlib.py?line=1225'>1226</a>\u001b[0m \u001b[39m\"\"\"\u001b[39;00m\n\u001b[1;32m   <a href='file:///usr/lib/python3.8/pathlib.py?line=1226'>1227</a>\u001b[0m \u001b[39mOpen the file in bytes mode, read it, and close the file.\u001b[39;00m\n\u001b[1;32m   <a href='file:///usr/lib/python3.8/pathlib.py?line=1227'>1228</a>\u001b[0m \u001b[39m\"\"\"\u001b[39;00m\n\u001b[1;32m   <a href='file:///usr/lib/python3.8/pathlib.py?line=1228'>1229</a>\u001b[0m \u001b[39mwith\u001b[39;00m \u001b[39mself\u001b[39m\u001b[39m.\u001b[39mopen(mode\u001b[39m=\u001b[39m\u001b[39m'\u001b[39m\u001b[39mrb\u001b[39m\u001b[39m'\u001b[39m) \u001b[39mas\u001b[39;00m f:\n\u001b[0;32m-> <a href='file:///usr/lib/python3.8/pathlib.py?line=1229'>1230</a>\u001b[0m     \u001b[39mreturn\u001b[39;00m f\u001b[39m.\u001b[39;49mread()\n",
      "\u001b[0;31mKeyboardInterrupt\u001b[0m: "
     ]
    }
   ],
   "source": [
    "# preprocessedImage(ori_blb_path, r_blb_path)\n",
    "# preprocessedImage(ori_bs_path, r_bs_path)\n",
    "# preprocessedImage(ori_ls_path, r_ls_path)"
   ]
  },
  {
   "cell_type": "code",
   "execution_count": null,
   "metadata": {},
   "outputs": [],
   "source": [
    "# def getRGB(event,x,y,flags,param): #(Based from stackoverflow by Wicaledon to get RGB color values from clicked pixel of an image)\n",
    "#     if event == cv2.EVENT_LBUTTONDOWN: #checks mouse left button down condition\n",
    "#         colorsR = image[y,x,2]\n",
    "#         colorsG = image[y,x,1]\n",
    "#         colorsB = image[y,x,0]\n",
    "#         colors = image[y,x]\n",
    "#         print(\"RGB Format: \",colors)\n",
    "#         print(\"Pixel Coordinates: X: \",x,\"Y: \",y)\n",
    "\n",
    "# image = cv2.imread(\"rice_leaf_diseases/bacterial_leaf_blight/DSC_0365.jpg\")\n",
    "# cv2.namedWindow('getRGB')\n",
    "# cv2.setMouseCallback('getRGB',getRGB)\n",
    "\n",
    "# #Do until esc pressed\n",
    "# while(1):\n",
    "#     cv2.imshow('getRGB',image)\n",
    "#     if cv2.waitKey(20) & 0xFF == 27:\n",
    "#         break\n",
    "# #if esc pressed, finish.\n",
    "# cv2.destroyAllWindows()"
   ]
  },
  {
   "cell_type": "code",
   "execution_count": 26,
   "metadata": {},
   "outputs": [
    {
     "data": {
      "text/plain": [
       "Text(0.5, 1.0, 'Value')"
      ]
     },
     "execution_count": 26,
     "metadata": {},
     "output_type": "execute_result"
    },
    {
     "data": {
      "image/png": "[encoded data removed]",
      "text/plain": [
       "<Figure size 864x288 with 4 Axes>"
      ]
     },
     "metadata": {
      "needs_background": "light"
     },
     "output_type": "display_data"
    }
   ],
   "source": [
    "x = cv2.imread(\"rld_img_rembg/blb/DSC_0701.jpg\") #read image from path\n",
    "x = cv2.cvtColor(x, cv2.COLOR_BGR2RGB) #convert image color to RGB\n",
    "leaf_disease_hsv = rgb2hsv(x) #convert RGB image to HSV (Based on from https://mattmaulion.medium.com/color-image-segmentation-image-processing-4a04eca25c0 by Matt Maulion)\n",
    "\n",
    "# print(x.shape)\n",
    "fig, ax = plt.subplots(1, 4, figsize=(12,4))\n",
    "ax[0].imshow(x)\n",
    "ax[0].set_title('original')\n",
    "ax[1].imshow(leaf_disease_hsv[:,:,0], cmap='gray')\n",
    "ax[1].set_title('Hue')\n",
    "ax[2].imshow(leaf_disease_hsv[:,:,1], cmap='gray')\n",
    "ax[2].set_title('Saturation')\n",
    "ax[3].imshow(leaf_disease_hsv[:,:,2], cmap='gray')\n",
    "ax[3].set_title('Value')\n"
   ]
  },
  {
   "cell_type": "code",
   "execution_count": 47,
   "metadata": {},
   "outputs": [
    {
     "data": {
      "image/png": "[encoded data removed]",
      "text/plain": [
       "<Figure size 1080x360 with 5 Axes>"
      ]
     },
     "metadata": {
      "needs_background": "light"
     },
     "output_type": "display_data"
    }
   ],
   "source": [
    "fig, ax = plt.subplots(1, 3, figsize=(15, 5))\n",
    "ax[0].imshow(leaf_disease_hsv[:,:,0],cmap='hsv')\n",
    "ax[0].set_title('hue')\n",
    "ax[1].imshow(leaf_disease_hsv[:,:,1],cmap='hsv')\n",
    "ax[1].set_title('transparency')\n",
    "ax[2].imshow(leaf_disease_hsv[:,:,2],cmap='hsv')\n",
    "ax[2].set_title('value')\n",
    "fig.colorbar(skimage.io.imshow(leaf_disease_hsv[:,:,0],cmap='hsv')) \n",
    "fig.colorbar(skimage.io.imshow(leaf_disease_hsv[:,:,1],cmap='hsv')) \n",
    "# fig.colorbar(imshow(leaf_disease_hsv[:,:,2],cmap='hsv')) \n",
    "\n",
    "fig.tight_layout()\n"
   ]
  },
  {
   "cell_type": "code",
   "execution_count": 17,
   "metadata": {},
   "outputs": [
    {
     "data": {
      "text/plain": [
       "<matplotlib.image.AxesImage at 0x7f1e3357a4f0>"
      ]
     },
     "execution_count": 17,
     "metadata": {},
     "output_type": "execute_result"
    },
    {
     "data": {
      "image/png": "[encoded data removed]",
      "text/plain": [
       "<Figure size 432x288 with 1 Axes>"
      ]
     },
     "metadata": {
      "needs_background": "light"
     },
     "output_type": "display_data"
    }
   ],
   "source": [
    "#lower hue \n",
    "lower_hue_mask = leaf_disease_hsv[:,:,0] > 0.0\n",
    "#upper hue\n",
    "upper_hue_mask = leaf_disease_hsv[:,:,0] < 0.1\n",
    "#transparensi\n",
    "lower_saturation_mask = leaf_disease_hsv[:,:,1] > 0.5\n",
    "upper_saturation_mask = leaf_disease_hsv[:,:,1] < 0.8\n",
    "\n",
    " \n",
    "mask_segment = upper_hue_mask*lower_hue_mask\n",
    "red = x[:,:,0]*mask_segment\n",
    "green = x[:,:,1]*mask_segment\n",
    "blue = x[:,:,2]*mask_segment\n",
    "bags_masked = np.dstack((red,green,blue))\n",
    "plt.imshow(bags_masked)\n"
   ]
  },
  {
   "cell_type": "code",
   "execution_count": 117,
   "metadata": {},
   "outputs": [],
   "source": [
    "# path mask\n",
    "m_blb_path = \"rld_mask/blb/\"\n",
    "m_bs_path = \"rld_mask/bs/\"\n",
    "m_ls_path = \"rld_mask/ls/\"\n",
    "\n",
    "\n",
    "def create_hue_segment(path_r, path_m, lower_hue_val, upper_hue_val):\n",
    "    \"\"\"\n",
    "    Create mask of images from path_r and save them to \n",
    "        path_m using hue segmentation\n",
    "    Args:\n",
    "        path_r: path of the image folder directory in string\n",
    "        path_m: path of the mask image destination\n",
    "        lower_hue_val: lowest hue value\n",
    "        upper_hue_val: highest hue value\n",
    "    Returns: \n",
    "    \"\"\"\n",
    "    os_path = os.listdir(path_r)\n",
    "    for img in os_path[:]:\n",
    "        read_bgr_img = cv2.imread(path_r + img)\n",
    "        read_rgb_img = cv2.cvtColor(read_bgr_img, cv2.COLOR_BGR2RGB)\n",
    "        read_hsv_img = rgb2hsv(read_rgb_img)\n",
    "        \n",
    "        # Hue segment\n",
    "        img_hue = read_hsv_img[:,:,0]\n",
    "        l_mask = img_hue > lower_hue_val\n",
    "        u_mask = img_hue < upper_hue_val\n",
    "        hue_mask = u_mask * l_mask\n",
    "        \n",
    "        # red = read_rgb_img[:,:,0] * hue_mask\n",
    "        # green = read_rgb_img[:,:,1] * hue_mask\n",
    "        # blue = read_rgb_img[:,:,2] * hue_mask\n",
    "\n",
    "        # mask = np.dstack((red, green, blue))\n",
    "        plt.imsave(path_m + img, hue_mask, cmap=\"gray\") \n",
    "        \n",
    "\n",
    "def create_hue_mask_alt(path1, path2, non_target_hue, target_hue):\n",
    "    \"\"\"\n",
    "    Create mask of images from path1 and save them to \n",
    "        path2y\n",
    "    Args:\n",
    "        path: path of the image folder directory in string\n",
    "        path2: path of the mask image destination\n",
    "        non-target-hue: hue value to be removed\n",
    "        target-hue: targeted hue value \n",
    "    Returns: \n",
    "    \"\"\"\n",
    "    os_path = os.listdir(path1)\n",
    "    for img in os_path[:]:\n",
    "        read_img = np.array(Image.open(path1 + img))\n",
    "\n",
    "        # Hue segment\n",
    "        img_hue = read_img[:,:,0]\n",
    "        markers = np.zeros_like(img_hue)\n",
    "        if non_target_hue != None:\n",
    "            markers[img_hue < non_target_hue] = 1\n",
    "        if target_hue != None:\n",
    "            markers[img_hue > target_hue] = 2\n",
    "        cmapps = [\"gray\"]\n",
    "\n",
    "        for i in range(len(cmapps)):\n",
    "            plt.imsave(path2 + \"/\" + img, markers, cmap=str(cmapps[i])) #use colormap\n",
    "\n",
    "\n",
    "def create_adp_mask(path1, path2, adp_type,  thres_type):\n",
    "    \"\"\"\n",
    "    Create mask of images from path1 and save them to \n",
    "        path2y\n",
    "    Args:\n",
    "        path: path of the image folder directory in string\n",
    "        path2: path of the mask image destination\n",
    "        adp_type: adaptive method \n",
    "        thres_type: threshold type\n",
    "    Returns: \n",
    "    \"\"\"\n",
    "    os_path = os.listdir(path1)\n",
    "    for img in os_path[:]:\n",
    "        read_img = np.array(Image.open(path1 + \"/\" + img))\n",
    "\n",
    "\n",
    "        # adapthist thresholding\n",
    "        img_gray = cv2.cvtColor(read_img, cv2.COLOR_BGR2GRAY)\n",
    "        clahe = cv2.createCLAHE(clipLimit=5)\n",
    "        clahe_img = clahe.apply(img_gray)\n",
    "        threshG = cv2.adaptiveThreshold(clahe_img, 255, adp_type, thres_type, 199, 18)\n",
    "\n",
    "        cv2.imwrite(path2 + \"/\" + img, threshG)"
   ]
  },
  {
   "cell_type": "code",
   "execution_count": 127,
   "metadata": {},
   "outputs": [],
   "source": [
    "create_hue_segment(r_blb_path, m_blb_path, 0.05, 0.15)\n",
    "create_hue_segment(r_bs_path, m_bs_path, 0.00, 0.1)\n",
    "create_hue_segment(r_ls_path, m_ls_path, 0.00, 0.1)\n",
    "\n",
    "# create_adp_mask(r_bs_path, m_bs_path, cv2.ADAPTIVE_THRESH_GAUSSIAN_C, cv2.THRESH_BINARY_INV)\n",
    "# create_adp_mask(r_ls_path, m_ls_path, cv2.ADAPTIVE_THRESH_GAUSSIAN_C, cv2.THRESH_BINARY_INV)\n"
   ]
  },
  {
   "cell_type": "code",
   "execution_count": 125,
   "metadata": {},
   "outputs": [],
   "source": [
    "# path segment img\n",
    "seg_blb_path = \"segment_img/blb/\"\n",
    "seg_bs_path = \"segment_img/bs/\"\n",
    "seg_ls_path = \"segment_img/ls/\"\n",
    "\n",
    "def segment_disease(path_r, path_m, path_res):\n",
    "    \"\"\"\n",
    "    Segment disease from the paddy leaf\n",
    "    Args:\n",
    "        path_r: path of the removed background image\n",
    "        path_m: path of the mask image \n",
    "        path_res: destination path of segment image\n",
    "    Returns: \n",
    "    \"\"\"\n",
    "    os_path = os.listdir(path_r)\n",
    "    for img in os_path[:]:\n",
    "        read_rgb_img = cv2.imread(path_r + img)\n",
    "        # read_rgb_img = cv2.cvtColor(read_rgb_img)\n",
    "\n",
    "        hue_mask = cv2.imread(path_m + img)\n",
    "        # h, s, v = cv2.split(hue_mask)\n",
    "        # plt.figure()\n",
    "        # plt.imshow(hue_mask)\n",
    "\n",
    "     \n",
    "        # red = read_rgb_img[:,:,0] * hue_mask[:,:,0] * hue_mask[:,:,1] * hue_mask[:,:,2]\n",
    "        # green = read_rgb_img[:,:,1] * hue_mask[:,:,0]* hue_mask[:,:,1] * hue_mask[:,:,2]\n",
    "        # blue = read_rgb_img[:,:,2] * hue_mask[:,:,0] * hue_mask[:,:,1] * hue_mask[:,:,2]\n",
    "\n",
    "        # result = np.dstack((red, green, blue))\n",
    "\n",
    "        res = cv2.bitwise_and(read_rgb_img, hue_mask)\n",
    "        cv2.imwrite(path_res + img, res)"
   ]
  },
  {
   "cell_type": "code",
   "execution_count": 128,
   "metadata": {},
   "outputs": [],
   "source": [
    "segment_disease(r_blb_path, m_blb_path, seg_blb_path)\n",
    "segment_disease(r_bs_path, m_bs_path, seg_bs_path)\n",
    "segment_disease(r_ls_path, m_ls_path, seg_ls_path)"
   ]
  }
 ],
 "metadata": {
  "interpreter": {
   "hash": "534f3915bd2bd12bd63476915380f007aeb245ace04ea1b92519881ddb8994b8"
  },
  "kernelspec": {
   "display_name": "Python 3.8.1 64-bit",
   "language": "python",
   "name": "python3"
  },
  "language_info": {
   "codemirror_mode": {
    "name": "ipython",
    "version": 3
   },
   "file_extension": ".py",
   "mimetype": "text/x-python",
   "name": "python",
   "nbconvert_exporter": "python",
   "pygments_lexer": "ipython3",
   "version": "3.8.10"
  },
  "orig_nbformat": 4
 },
 "nbformat": 4,
 "nbformat_minor": 2
}
