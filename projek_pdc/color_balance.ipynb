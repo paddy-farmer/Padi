{
 "cells": [
  {
   "cell_type": "code",
   "execution_count": 13,
   "metadata": {},
   "outputs": [],
   "source": [
    "import colorcorrect.algorithm as cca\n",
    "from colorcorrect.util import from_pil, to_pil\n",
    "import os\n",
    "from PIL import Image"
   ]
  },
  {
   "cell_type": "code",
   "execution_count": 14,
   "metadata": {},
   "outputs": [],
   "source": [
    "def colorBalance(image, name, path):\n",
    "  \"\"\"\n",
    "  Implement cca.max_white color correction algorithm \n",
    "    using colorcorrect library\n",
    "  Args:\n",
    "        image: image object that will be color balanced\n",
    "        name: filename of the saved color balanced image\n",
    "        path: color balanced image destination folder\n",
    "  Returns: \n",
    "  \"\"\"\n",
    "  try:\n",
    "    to_pil(cca.max_white(from_pil(image))).save(path + name)\n",
    "\n",
    "  except Exception as e:\n",
    "    print(f\"Error : {e}\")\n"
   ]
  },
  {
   "cell_type": "code",
   "execution_count": 15,
   "metadata": {},
   "outputs": [],
   "source": [
    "directory = \"rice_leaf_diseases/\""
   ]
  },
  {
   "cell_type": "code",
   "execution_count": 18,
   "metadata": {},
   "outputs": [],
   "source": [
    "for root, dirs, files in os.walk(directory):\n",
    "    path = root.split(\"/\")\n",
    "    folder_disease = path[-1]\n",
    "\n",
    "    if(folder_disease != \"\"):\n",
    "        for name in files:\n",
    "            file = root+\"/\"+name\n",
    "            read_img = Image.open(file)\n",
    "            colorBalance(read_img, name, \"rld_img_cb/\" + folder_disease + \"/\")\n",
    "            "
   ]
  }
 ],
 "metadata": {
  "interpreter": {
   "hash": "916dbcbb3f70747c44a77c7bcd40155683ae19c65e1c03b4aa3499c5328201f1"
  },
  "kernelspec": {
   "display_name": "Python 3.8.10 64-bit",
   "language": "python",
   "name": "python3"
  },
  "language_info": {
   "codemirror_mode": {
    "name": "ipython",
    "version": 3
   },
   "file_extension": ".py",
   "mimetype": "text/x-python",
   "name": "python",
   "nbconvert_exporter": "python",
   "pygments_lexer": "ipython3",
   "version": "3.8.10"
  },
  "orig_nbformat": 4
 },
 "nbformat": 4,
 "nbformat_minor": 2
}
