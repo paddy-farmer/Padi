{
 "cells": [
  {
   "cell_type": "code",
   "execution_count": 1,
   "metadata": {},
   "outputs": [],
   "source": [
    "import cv2\n",
    "from cv2 import bilateralFilter\n",
    "import numpy as np\n",
    "import os"
   ]
  },
  {
   "cell_type": "code",
   "execution_count": 3,
   "metadata": {},
   "outputs": [],
   "source": [
    "def bilateralFilter(directory, diameter, sigma_color, sigma_space, save_path):\n",
    "    \"\"\"\n",
    "    filter image by using bilateral algorithm \n",
    "    Args:\n",
    "        directory: path that contains the image file\n",
    "        d: Diameter of each pixel neighborhood.\n",
    "        sigmaColor: Value of sigma  in the color space. The greater the value, the \n",
    "                    colors farther to each other will start to get mixed.\n",
    "        sigmaSpace: Value of sigma  in the coordinate space. The greater its value, \n",
    "                    the more further pixels will mix together, given that their colors lie \n",
    "                    within the sigmaColor range.\n",
    "        save_path: folder to save segmented image\n",
    "    Returns: \n",
    "        segmented image that will be saved in the selected folder\n",
    "    \"\"\"\n",
    "    for root, dirs, files in os.walk(directory):\n",
    "        for name in files:\n",
    "            file = root+\"/\"+name\n",
    "            img = cv2.imread(file)\n",
    "            rgb_img = cv2.cvtColor(img, cv2.COLOR_BGR2RGB)\n",
    "            bilateralFilter = cv2.bilateralFilter(rgb_img, diameter, sigma_color, sigma_space)\n",
    "            bgr_img = cv2.cvtColor(bilateralFilter, cv2.COLOR_RGB2BGR)\n",
    "            cv2.imwrite(save_path + \"/\" + name, bgr_img)"
   ]
  },
  {
   "cell_type": "code",
   "execution_count": 4,
   "metadata": {},
   "outputs": [],
   "source": [
    "image_directory = \"image/rld_img_cb\"\n",
    "output_directory = \"image/bilateral_image\""
   ]
  },
  {
   "cell_type": "code",
   "execution_count": 6,
   "metadata": {},
   "outputs": [],
   "source": [
    "bilateralFilter(image_directory + \"/bacterial_leaf_blight\", 9, 75, 75, output_directory + \"/bacterial_leaf_blight\")"
   ]
  },
  {
   "cell_type": "code",
   "execution_count": 7,
   "metadata": {},
   "outputs": [],
   "source": [
    "bilateralFilter(image_directory + \"/blast\", 9, 75, 75, output_directory + \"/blast\")"
   ]
  },
  {
   "cell_type": "code",
   "execution_count": 8,
   "metadata": {},
   "outputs": [],
   "source": [
    "bilateralFilter(image_directory + \"/brown_spot\", 9, 75, 75, output_directory + \"/brown_spot\")"
   ]
  },
  {
   "cell_type": "code",
   "execution_count": 9,
   "metadata": {},
   "outputs": [],
   "source": [
    "bilateralFilter(image_directory + \"/healthy\", 9, 75, 75, output_directory + \"/healthy\")"
   ]
  },
  {
   "cell_type": "code",
   "execution_count": 10,
   "metadata": {},
   "outputs": [],
   "source": [
    "bilateralFilter(image_directory + \"/leaf_smut\", 9, 75, 75, output_directory + \"/leaf_smut\")"
   ]
  },
  {
   "cell_type": "code",
   "execution_count": 11,
   "metadata": {},
   "outputs": [],
   "source": [
    "bilateralFilter(image_directory + \"/tungro\", 9, 75, 75, output_directory + \"/tungro\")"
   ]
  }
 ],
 "metadata": {
  "kernelspec": {
   "display_name": "Python 3.8.10 64-bit",
   "language": "python",
   "name": "python3"
  },
  "language_info": {
   "codemirror_mode": {
    "name": "ipython",
    "version": 3
   },
   "file_extension": ".py",
   "mimetype": "text/x-python",
   "name": "python",
   "nbconvert_exporter": "python",
   "pygments_lexer": "ipython3",
   "version": "3.8.10"
  },
  "orig_nbformat": 4,
  "vscode": {
   "interpreter": {
    "hash": "916dbcbb3f70747c44a77c7bcd40155683ae19c65e1c03b4aa3499c5328201f1"
   }
  }
 },
 "nbformat": 4,
 "nbformat_minor": 2
}
