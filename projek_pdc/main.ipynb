{
 "cells": [
  {
   "cell_type": "code",
   "execution_count": 1,
   "metadata": {},
   "outputs": [
    {
     "name": "stderr",
     "output_type": "stream",
     "text": [
      "2022-07-07 17:32:22.939882: W tensorflow/stream_executor/platform/default/dso_loader.cc:64] Could not load dynamic library 'libcudart.so.11.0'; dlerror: libcudart.so.11.0: cannot open shared object file: No such file or directory; LD_LIBRARY_PATH: /home/ricky/.local/lib/python3.8/site-packages/cv2/../../lib64:\n",
      "2022-07-07 17:32:22.939929: I tensorflow/stream_executor/cuda/cudart_stub.cc:29] Ignore above cudart dlerror if you do not have a GPU set up on your machine.\n"
     ]
    }
   ],
   "source": [
    "from flask import Flask, flash, request, redirect, url_for, render_template\n",
    "import os\n",
    "from werkzeug.utils import secure_filename\n",
    "\n",
    "import numpy as np\n",
    "import cv2\n",
    "from keras.models import load_model, model_from_json\n",
    "import itertools as IT\n"
   ]
  },
  {
   "cell_type": "code",
   "execution_count": 2,
   "metadata": {},
   "outputs": [],
   "source": [
    "app = Flask(__name__)\n",
    "app.secret_key = \"secret\"\n",
    "app.config['UPLOAD_FOLDER'] = 'static/uploads/'"
   ]
  },
  {
   "cell_type": "code",
   "execution_count": 3,
   "metadata": {},
   "outputs": [],
   "source": [
    "ALLOWED_EXTENSIONS = set(['png', 'jpg', 'jpeg', 'gif'])\n",
    " \n",
    "def allowed_file(filename):\n",
    "    return '.' in filename and filename.rsplit('.', 1)[1].lower() in ALLOWED_EXTENSIONS"
   ]
  },
  {
   "cell_type": "code",
   "execution_count": 4,
   "metadata": {},
   "outputs": [],
   "source": [
    "def load_prediction_model():\n",
    "    # model = load_model('5conv2dense_64Features_100epoch_batchsize32_learningrate4_with_healthy.h5')\n",
    "    json_file = open('efficientnetv2b0_epoch20_lr000004/efficientnetv2b0_epoch20_lr000004.json', 'r')\n",
    "    loaded_model_json = json_file.read()\n",
    "    json_file.close()\n",
    "    loaded_model = model_from_json(loaded_model_json)\n",
    "    loaded_model.compile(loss=\"categorical_crossentropy\", optimizer='adam',metrics=[\"accuracy\"])\n",
    "    loaded_model.load_weights(\"efficientnetv2b0_epoch20_lr000004/efficientnetv2b0_epoch20_lr000004.h5\")\n",
    "    return loaded_model\n"
   ]
  },
  {
   "cell_type": "code",
   "execution_count": 5,
   "metadata": {},
   "outputs": [],
   "source": [
    "def get_label(result):\n",
    "    if result == 0:\n",
    "        return \"Bacterial Leaf Blight\"\n",
    "    elif result == 1:\n",
    "        return \"Brown Spot\"\n",
    "    elif result == 2:\n",
    "        return \"Leaf Smut\""
   ]
  },
  {
   "cell_type": "code",
   "execution_count": 6,
   "metadata": {},
   "outputs": [],
   "source": [
    "@app.route('/')\n",
    "def index():\n",
    "    return render_template('index.html')\n",
    " \n",
    "@app.route('/predict')\n",
    "def predict():\n",
    "    return render_template('predict.html')\n",
    "\n",
    "@app.route('/predict', methods=['POST'])\n",
    "def upload_image():\n",
    "    if 'files[]' not in request.files:\n",
    "        flash('No file part')\n",
    "        return redirect(request.url)\n",
    "    files = request.files.getlist('files[]')\n",
    "    loaded_model = load_prediction_model()\n",
    "    file_names = []\n",
    "    pred_results = []\n",
    "    for file in files:\n",
    "        if file and allowed_file(file.filename):\n",
    "            filename = secure_filename(file.filename)\n",
    "            file_names.append(filename)\n",
    "\n",
    "            # print(__file__)\n",
    "            file.save(os.path.join(app.config['UPLOAD_FOLDER'], filename))\n",
    "            image = cv2.imread( app.config['UPLOAD_FOLDER'] + filename)\n",
    "            image = cv2.resize(image, tuple((224, 224)))   \n",
    "            image = np.reshape(image, [1, 224, 224, 3])\n",
    "            prediction = loaded_model.predict(image)\n",
    "            prediction = np.argmax(prediction)\n",
    "            pred_results.append(get_label(prediction))\n",
    "        else:\n",
    "            flash('Allowed image types are -> png, jpg, jpeg, gif')\n",
    "            return redirect(request.url)\n",
    " \n",
    "    return render_template('predict.html', filenames=file_names, predictions=pred_results, zip=zip)\n",
    " \n",
    "@app.route('/display/<filename>')\n",
    "def display_image(filename):\n",
    "    return redirect(url_for('static', filename='uploads/' + filename), code=301)\n",
    "\n"
   ]
  },
  {
   "cell_type": "code",
   "execution_count": 7,
   "metadata": {},
   "outputs": [
    {
     "name": "stdout",
     "output_type": "stream",
     "text": [
      " * Serving Flask app '__main__' (lazy loading)\n",
      " * Environment: production\n",
      "\u001b[31m   WARNING: This is a development server. Do not use it in a production deployment.\u001b[0m\n",
      "\u001b[2m   Use a production WSGI server instead.\u001b[0m\n",
      " * Debug mode: off\n"
     ]
    },
    {
     "name": "stderr",
     "output_type": "stream",
     "text": [
      " * Running on http://127.0.0.1:5000 (Press CTRL+C to quit)\n",
      "127.0.0.1 - - [07/Jul/2022 17:33:54] \"GET / HTTP/1.1\" 200 -\n",
      "127.0.0.1 - - [07/Jul/2022 17:33:54] \"GET /static/styles/style.css HTTP/1.1\" 200 -\n",
      "127.0.0.1 - - [07/Jul/2022 17:33:56] \"GET /static/self_photo/foto%20hosea.jpeg HTTP/1.1\" 200 -\n",
      "127.0.0.1 - - [07/Jul/2022 17:33:56] \"GET /static/self_photo/foto%20ricky.jpeg HTTP/1.1\" 200 -\n",
      "127.0.0.1 - - [07/Jul/2022 17:33:56] \"GET /static/self_photo/foto%20natalis.jpeg HTTP/1.1\" 200 -\n",
      "127.0.0.1 - - [07/Jul/2022 17:33:56] \"GET /images/favicon.ico HTTP/1.1\" 404 -\n",
      "127.0.0.1 - - [07/Jul/2022 17:33:58] \"GET /predict HTTP/1.1\" 200 -\n",
      "127.0.0.1 - - [07/Jul/2022 17:33:58] \"GET /static/styles/style.css HTTP/1.1\" 304 -\n",
      "127.0.0.1 - - [07/Jul/2022 17:33:58] \"GET /favicon.ico HTTP/1.1\" 404 -\n",
      "127.0.0.1 - - [07/Jul/2022 17:33:59] \"GET / HTTP/1.1\" 200 -\n",
      "127.0.0.1 - - [07/Jul/2022 17:33:59] \"GET /static/self_photo/foto%20ricky.jpeg HTTP/1.1\" 304 -\n",
      "127.0.0.1 - - [07/Jul/2022 17:33:59] \"GET /static/styles/style.css HTTP/1.1\" 304 -\n",
      "127.0.0.1 - - [07/Jul/2022 17:33:59] \"GET /static/self_photo/foto%20natalis.jpeg HTTP/1.1\" 304 -\n",
      "127.0.0.1 - - [07/Jul/2022 17:33:59] \"GET /static/self_photo/foto%20hosea.jpeg HTTP/1.1\" 304 -\n",
      "127.0.0.1 - - [07/Jul/2022 17:34:02] \"GET /predict HTTP/1.1\" 200 -\n",
      "127.0.0.1 - - [07/Jul/2022 17:34:02] \"GET /static/styles/style.css HTTP/1.1\" 304 -\n",
      "2022-07-07 17:34:36.395648: I tensorflow/stream_executor/cuda/cuda_gpu_executor.cc:936] successful NUMA node read from SysFS had negative value (-1), but there must be at least one NUMA node, so returning NUMA node zero\n",
      "2022-07-07 17:34:36.396158: W tensorflow/stream_executor/platform/default/dso_loader.cc:64] Could not load dynamic library 'libcudart.so.11.0'; dlerror: libcudart.so.11.0: cannot open shared object file: No such file or directory; LD_LIBRARY_PATH: /home/ricky/.local/lib/python3.8/site-packages/cv2/../../lib64:\n",
      "2022-07-07 17:34:36.396241: W tensorflow/stream_executor/platform/default/dso_loader.cc:64] Could not load dynamic library 'libcublas.so.11'; dlerror: libcublas.so.11: cannot open shared object file: No such file or directory; LD_LIBRARY_PATH: /home/ricky/.local/lib/python3.8/site-packages/cv2/../../lib64:\n",
      "2022-07-07 17:34:36.396300: W tensorflow/stream_executor/platform/default/dso_loader.cc:64] Could not load dynamic library 'libcublasLt.so.11'; dlerror: libcublasLt.so.11: cannot open shared object file: No such file or directory; LD_LIBRARY_PATH: /home/ricky/.local/lib/python3.8/site-packages/cv2/../../lib64:\n",
      "2022-07-07 17:34:36.396358: W tensorflow/stream_executor/platform/default/dso_loader.cc:64] Could not load dynamic library 'libcufft.so.10'; dlerror: libcufft.so.10: cannot open shared object file: No such file or directory; LD_LIBRARY_PATH: /home/ricky/.local/lib/python3.8/site-packages/cv2/../../lib64:\n",
      "2022-07-07 17:34:36.396415: W tensorflow/stream_executor/platform/default/dso_loader.cc:64] Could not load dynamic library 'libcurand.so.10'; dlerror: libcurand.so.10: cannot open shared object file: No such file or directory; LD_LIBRARY_PATH: /home/ricky/.local/lib/python3.8/site-packages/cv2/../../lib64:\n",
      "2022-07-07 17:34:36.396471: W tensorflow/stream_executor/platform/default/dso_loader.cc:64] Could not load dynamic library 'libcusolver.so.11'; dlerror: libcusolver.so.11: cannot open shared object file: No such file or directory; LD_LIBRARY_PATH: /home/ricky/.local/lib/python3.8/site-packages/cv2/../../lib64:\n",
      "2022-07-07 17:34:36.396525: W tensorflow/stream_executor/platform/default/dso_loader.cc:64] Could not load dynamic library 'libcusparse.so.11'; dlerror: libcusparse.so.11: cannot open shared object file: No such file or directory; LD_LIBRARY_PATH: /home/ricky/.local/lib/python3.8/site-packages/cv2/../../lib64:\n",
      "2022-07-07 17:34:36.396580: W tensorflow/stream_executor/platform/default/dso_loader.cc:64] Could not load dynamic library 'libcudnn.so.8'; dlerror: libcudnn.so.8: cannot open shared object file: No such file or directory; LD_LIBRARY_PATH: /home/ricky/.local/lib/python3.8/site-packages/cv2/../../lib64:\n",
      "2022-07-07 17:34:36.396590: W tensorflow/core/common_runtime/gpu/gpu_device.cc:1850] Cannot dlopen some GPU libraries. Please make sure the missing libraries mentioned above are installed properly if you would like to use GPU. Follow the guide at https://www.tensorflow.org/install/gpu for how to download and setup the required libraries for your platform.\n",
      "Skipping registering GPU devices...\n",
      "2022-07-07 17:34:36.397415: I tensorflow/core/platform/cpu_feature_guard.cc:151] This TensorFlow binary is optimized with oneAPI Deep Neural Network Library (oneDNN) to use the following CPU instructions in performance-critical operations:  AVX2 FMA\n",
      "To enable them in other operations, rebuild TensorFlow with the appropriate compiler flags.\n",
      "[2022-07-07 17:34:41,032] ERROR in app: Exception on /predict [POST]\n",
      "Traceback (most recent call last):\n",
      "  File \"/home/ricky/.local/lib/python3.8/site-packages/flask/app.py\", line 2077, in wsgi_app\n",
      "    response = self.full_dispatch_request()\n",
      "  File \"/home/ricky/.local/lib/python3.8/site-packages/flask/app.py\", line 1525, in full_dispatch_request\n",
      "    rv = self.handle_user_exception(e)\n",
      "  File \"/home/ricky/.local/lib/python3.8/site-packages/flask/app.py\", line 1523, in full_dispatch_request\n",
      "    rv = self.dispatch_request()\n",
      "  File \"/home/ricky/.local/lib/python3.8/site-packages/flask/app.py\", line 1509, in dispatch_request\n",
      "    return self.ensure_sync(self.view_functions[rule.endpoint])(**req.view_args)\n",
      "  File \"/tmp/ipykernel_5439/3194988779.py\", line 28, in upload_image\n",
      "    prediction = loaded_model.predict(image)\n",
      "  File \"/home/ricky/.local/lib/python3.8/site-packages/keras/utils/traceback_utils.py\", line 67, in error_handler\n",
      "    raise e.with_traceback(filtered_tb) from None\n",
      "  File \"/home/ricky/.local/lib/python3.8/site-packages/tensorflow/python/framework/func_graph.py\", line 1147, in autograph_handler\n",
      "    raise e.ag_error_metadata.to_exception(e)\n",
      "ValueError: in user code:\n",
      "\n",
      "    File \"/home/ricky/.local/lib/python3.8/site-packages/keras/engine/training.py\", line 1801, in predict_function  *\n",
      "        return step_function(self, iterator)\n",
      "    File \"/home/ricky/.local/lib/python3.8/site-packages/keras/engine/training.py\", line 1790, in step_function  **\n",
      "        outputs = model.distribute_strategy.run(run_step, args=(data,))\n",
      "    File \"/home/ricky/.local/lib/python3.8/site-packages/keras/engine/training.py\", line 1783, in run_step  **\n",
      "        outputs = model.predict_step(data)\n",
      "    File \"/home/ricky/.local/lib/python3.8/site-packages/keras/engine/training.py\", line 1751, in predict_step\n",
      "        return self(x, training=False)\n",
      "    File \"/home/ricky/.local/lib/python3.8/site-packages/keras/utils/traceback_utils.py\", line 67, in error_handler\n",
      "        raise e.with_traceback(filtered_tb) from None\n",
      "    File \"/home/ricky/.local/lib/python3.8/site-packages/keras/engine/input_spec.py\", line 264, in assert_input_compatibility\n",
      "        raise ValueError(f'Input {input_index} of layer \"{layer_name}\" is '\n",
      "\n",
      "    ValueError: Input 0 of layer \"sequential\" is incompatible with the layer: expected shape=(None, 224, 224, 3), found shape=(None, 150, 150, 3)\n",
      "\n",
      "127.0.0.1 - - [07/Jul/2022 17:34:41] \"POST /predict HTTP/1.1\" 500 -\n"
     ]
    }
   ],
   "source": [
    "if __name__ == \"__main__\":\n",
    "    app.run()"
   ]
  }
 ],
 "metadata": {
  "interpreter": {
   "hash": "916dbcbb3f70747c44a77c7bcd40155683ae19c65e1c03b4aa3499c5328201f1"
  },
  "kernelspec": {
   "display_name": "Python 3.8.10 64-bit",
   "language": "python",
   "name": "python3"
  },
  "language_info": {
   "codemirror_mode": {
    "name": "ipython",
    "version": 3
   },
   "file_extension": ".py",
   "mimetype": "text/x-python",
   "name": "python",
   "nbconvert_exporter": "python",
   "pygments_lexer": "ipython3",
   "version": "3.8.10"
  },
  "orig_nbformat": 4
 },
 "nbformat": 4,
 "nbformat_minor": 2
}
