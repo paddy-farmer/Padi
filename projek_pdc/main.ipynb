{
 "cells": [
  {
   "cell_type": "code",
   "execution_count": 1,
   "metadata": {},
   "outputs": [],
   "source": [
    "from flask import Flask, flash, request, redirect, url_for, render_template\n",
    "import os\n",
    "from werkzeug.utils import secure_filename\n",
    "\n",
    "import numpy as np\n",
    "import cv2\n",
    "from keras.models import load_model, model_from_json\n",
    "import itertools as IT\n"
   ]
  },
  {
   "cell_type": "code",
   "execution_count": 2,
   "metadata": {},
   "outputs": [],
   "source": [
    "app = Flask(__name__)\n",
    "app.secret_key = \"secret\"\n",
    "app.config['UPLOAD_FOLDER'] = 'static/uploads/'"
   ]
  },
  {
   "cell_type": "code",
   "execution_count": 3,
   "metadata": {},
   "outputs": [],
   "source": [
    "ALLOWED_EXTENSIONS = set(['png', 'jpg', 'jpeg', 'gif'])\n",
    " \n",
    "def allowed_file(filename):\n",
    "    return '.' in filename and filename.rsplit('.', 1)[1].lower() in ALLOWED_EXTENSIONS"
   ]
  },
  {
   "cell_type": "code",
   "execution_count": 4,
   "metadata": {},
   "outputs": [],
   "source": [
    "def load_prediction_model():\n",
    "    # model = load_model('5conv2dense_64Features_100epoch_batchsize32_learningrate4_with_healthy.h5')\n",
    "    json_file = open('efficientnetv2b0_epoch20_lr000004/efficientnetv2b0_epoch20_lr000004.json', 'r')\n",
    "    loaded_model_json = json_file.read()\n",
    "    json_file.close()\n",
    "    loaded_model = model_from_json(loaded_model_json)\n",
    "    loaded_model.compile(loss=\"categorical_crossentropy\", optimizer='adam',metrics=[\"accuracy\"])\n",
    "    loaded_model.load_weights(\"efficientnetv2b0_epoch20_lr000004/efficientnetv2b0_epoch20_lr000004.h5\")\n",
    "    return loaded_model\n"
   ]
  },
  {
   "cell_type": "code",
   "execution_count": 5,
   "metadata": {},
   "outputs": [],
   "source": [
    "def get_label(result):\n",
    "    if result == 0:\n",
    "        return \"Bacterial Leaf Blight\"\n",
    "    elif result == 1:\n",
    "        return \"Brown Spot\"\n",
    "    elif result == 2:\n",
    "        return \"Leaf Smut\""
   ]
  },
  {
   "cell_type": "code",
   "execution_count": 6,
   "metadata": {},
   "outputs": [],
   "source": [
    "@app.route('/')\n",
    "def index():\n",
    "    return render_template('index.html')\n",
    " \n",
    "@app.route('/predict')\n",
    "def predict():\n",
    "    return render_template('predict.html')\n",
    "\n",
    "@app.route('/predict', methods=['POST'])\n",
    "def upload_image():\n",
    "    if 'files[]' not in request.files:\n",
    "        flash('No file part')\n",
    "        return redirect(request.url)\n",
    "    files = request.files.getlist('files[]')\n",
    "    loaded_model = load_prediction_model()\n",
    "    file_names = []\n",
    "    pred_results = []\n",
    "    for file in files:\n",
    "        if file and allowed_file(file.filename):\n",
    "            filename = secure_filename(file.filename)\n",
    "            file_names.append(filename)\n",
    "\n",
    "            # print(__file__)\n",
    "            file.save(os.path.join(app.config['UPLOAD_FOLDER'], filename))\n",
    "            image = cv2.imread( app.config['UPLOAD_FOLDER'] + filename)\n",
    "            image = cv2.resize(image, tuple((224, 224)))   \n",
    "            image = np.reshape(image, [1, 224, 224, 3])\n",
    "            prediction = loaded_model.predict(image)\n",
    "            prediction = np.argmax(prediction)\n",
    "            pred_results.append(get_label(prediction))\n",
    "        else:\n",
    "            flash('Allowed image types are -> png, jpg, jpeg, gif')\n",
    "            return redirect(request.url)\n",
    " \n",
    "    return render_template('predict.html', filenames=file_names, predictions=pred_results, zip=zip)\n",
    " \n",
    "@app.route('/display/<filename>')\n",
    "def display_image(filename):\n",
    "    return redirect(url_for('static', filename='uploads/' + filename), code=301)\n",
    "\n",
    "\n",
    "@app.route('/info')\n",
    "def info():\n",
    "    return render_template('info.html')\n",
    "\n"
   ]
  },
  {
   "cell_type": "code",
   "execution_count": 7,
   "metadata": {},
   "outputs": [
    {
     "name": "stdout",
     "output_type": "stream",
     "text": [
      " * Serving Flask app '__main__' (lazy loading)\n",
      " * Environment: production\n",
      "\u001b[31m   WARNING: This is a development server. Do not use it in a production deployment.\u001b[0m\n",
      "\u001b[2m   Use a production WSGI server instead.\u001b[0m\n",
      " * Debug mode: off\n"
     ]
    },
    {
     "name": "stderr",
     "output_type": "stream",
     "text": [
      " * Running on http://127.0.0.1:5000 (Press CTRL+C to quit)\n"
     ]
    }
   ],
   "source": [
    "if __name__ == \"__main__\":\n",
    "    app.run()"
   ]
  }
 ],
 "metadata": {
  "kernelspec": {
   "display_name": "Python 3.8.1 64-bit",
   "language": "python",
   "name": "python3"
  },
  "language_info": {
   "codemirror_mode": {
    "name": "ipython",
    "version": 3
   },
   "file_extension": ".py",
   "mimetype": "text/x-python",
   "name": "python",
   "nbconvert_exporter": "python",
   "pygments_lexer": "ipython3",
   "version": "3.8.1"
  },
  "orig_nbformat": 4,
  "vscode": {
   "interpreter": {
    "hash": "e8e103f1427e845b325d32d1d1b7a680a975242c9df6a2c0532359a1c20fb4b0"
   }
  }
 },
 "nbformat": 4,
 "nbformat_minor": 2
}
