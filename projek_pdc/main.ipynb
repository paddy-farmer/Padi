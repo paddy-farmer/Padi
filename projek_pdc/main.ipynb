{
 "cells": [
  {
   "cell_type": "code",
   "execution_count": 23,
   "metadata": {},
   "outputs": [],
   "source": [
    "from flask import Flask, flash, request, redirect, url_for, render_template\n",
    "import os\n",
    "from werkzeug.utils import secure_filename\n",
    "\n",
    "import numpy as np\n",
    "import cv2\n",
    "from keras.models import load_model, model_from_json\n",
    "import itertools as IT\n"
   ]
  },
  {
   "cell_type": "code",
   "execution_count": 24,
   "metadata": {},
   "outputs": [],
   "source": [
    "app = Flask(__name__)\n",
    "app.secret_key = \"secret\"\n",
    "app.config['UPLOAD_FOLDER'] = 'static/uploads/'"
   ]
  },
  {
   "cell_type": "code",
   "execution_count": 25,
   "metadata": {},
   "outputs": [],
   "source": [
    "ALLOWED_EXTENSIONS = set(['png', 'jpg', 'jpeg', 'gif'])\n",
    " \n",
    "def allowed_file(filename):\n",
    "    return '.' in filename and filename.rsplit('.', 1)[1].lower() in ALLOWED_EXTENSIONS"
   ]
  },
  {
   "cell_type": "code",
   "execution_count": 26,
   "metadata": {},
   "outputs": [],
   "source": [
    "def load_prediction_model():\n",
    "    # model = load_model('5conv2dense_64Features_100epoch_batchsize32_learningrate4_with_healthy.h5')\n",
    "    json_file = open('efficientnetv2b0_epoch20_lr000004/efficientnetv2b0_epoch20_lr000004.json', 'r')\n",
    "    loaded_model_json = json_file.read()\n",
    "    json_file.close()\n",
    "    loaded_model = model_from_json(loaded_model_json)\n",
    "    loaded_model.compile(loss=\"categorical_crossentropy\", optimizer='adam',metrics=[\"accuracy\"])\n",
    "    loaded_model.load_weights(\"efficientnetv2b0_epoch20_lr000004/efficientnetv2b0_epoch20_lr000004.h5\")\n",
    "    return loaded_model\n"
   ]
  },
  {
   "cell_type": "code",
   "execution_count": 27,
   "metadata": {},
   "outputs": [],
   "source": [
    "def get_label(result):\n",
    "    if result == 0:\n",
    "        return \"Bacterial Leaf Blight\"\n",
    "    elif result == 1:\n",
    "        return \"Brown Spot\"\n",
    "    elif result == 2:\n",
    "        return \"Leaf Smut\""
   ]
  },
  {
   "cell_type": "code",
   "execution_count": 28,
   "metadata": {},
   "outputs": [
    {
     "ename": "AssertionError",
     "evalue": "View function mapping is overwriting an existing endpoint function: predict",
     "output_type": "error",
     "traceback": [
      "\u001b[1;31m---------------------------------------------------------------------------\u001b[0m",
      "\u001b[1;31mAssertionError\u001b[0m                            Traceback (most recent call last)",
      "\u001b[1;32md:\\Padi\\projek_pdc\\main.ipynb Cell 6\u001b[0m in \u001b[0;36m<cell line: 42>\u001b[1;34m()\u001b[0m\n\u001b[0;32m     <a href='vscode-notebook-cell:/d%3A/Padi/projek_pdc/main.ipynb#ch0000005?line=36'>37</a>\u001b[0m \u001b[39m@app\u001b[39m\u001b[39m.\u001b[39mroute(\u001b[39m'\u001b[39m\u001b[39m/display/<filename>\u001b[39m\u001b[39m'\u001b[39m)\n\u001b[0;32m     <a href='vscode-notebook-cell:/d%3A/Padi/projek_pdc/main.ipynb#ch0000005?line=37'>38</a>\u001b[0m \u001b[39mdef\u001b[39;00m \u001b[39mdisplay_image\u001b[39m(filename):\n\u001b[0;32m     <a href='vscode-notebook-cell:/d%3A/Padi/projek_pdc/main.ipynb#ch0000005?line=38'>39</a>\u001b[0m     \u001b[39mreturn\u001b[39;00m redirect(url_for(\u001b[39m'\u001b[39m\u001b[39mstatic\u001b[39m\u001b[39m'\u001b[39m, filename\u001b[39m=\u001b[39m\u001b[39m'\u001b[39m\u001b[39muploads/\u001b[39m\u001b[39m'\u001b[39m \u001b[39m+\u001b[39m filename), code\u001b[39m=\u001b[39m\u001b[39m301\u001b[39m)\n\u001b[0;32m     <a href='vscode-notebook-cell:/d%3A/Padi/projek_pdc/main.ipynb#ch0000005?line=41'>42</a>\u001b[0m \u001b[39m@app\u001b[39;49m\u001b[39m.\u001b[39;49mroute(\u001b[39m'\u001b[39;49m\u001b[39m/info\u001b[39;49m\u001b[39m'\u001b[39;49m)\n\u001b[1;32m---> <a href='vscode-notebook-cell:/d%3A/Padi/projek_pdc/main.ipynb#ch0000005?line=42'>43</a>\u001b[0m \u001b[39mdef\u001b[39;49;00m \u001b[39mpredict\u001b[39;49m():\n\u001b[0;32m     <a href='vscode-notebook-cell:/d%3A/Padi/projek_pdc/main.ipynb#ch0000005?line=43'>44</a>\u001b[0m     \u001b[39mreturn\u001b[39;49;00m render_template(\u001b[39m'\u001b[39;49m\u001b[39minfo.html\u001b[39;49m\u001b[39m'\u001b[39;49m)\n",
      "File \u001b[1;32mc:\\Users\\ricky\\AppData\\Local\\Programs\\Python\\Python38\\lib\\site-packages\\flask\\scaffold.py:440\u001b[0m, in \u001b[0;36mScaffold.route.<locals>.decorator\u001b[1;34m(f)\u001b[0m\n\u001b[0;32m    438\u001b[0m \u001b[39mdef\u001b[39;00m \u001b[39mdecorator\u001b[39m(f: F) \u001b[39m-\u001b[39m\u001b[39m>\u001b[39m F:\n\u001b[0;32m    439\u001b[0m     endpoint \u001b[39m=\u001b[39m options\u001b[39m.\u001b[39mpop(\u001b[39m\"\u001b[39m\u001b[39mendpoint\u001b[39m\u001b[39m\"\u001b[39m, \u001b[39mNone\u001b[39;00m)\n\u001b[1;32m--> 440\u001b[0m     \u001b[39mself\u001b[39;49m\u001b[39m.\u001b[39;49madd_url_rule(rule, endpoint, f, \u001b[39m*\u001b[39;49m\u001b[39m*\u001b[39;49moptions)\n\u001b[0;32m    441\u001b[0m     \u001b[39mreturn\u001b[39;00m f\n",
      "File \u001b[1;32mc:\\Users\\ricky\\AppData\\Local\\Programs\\Python\\Python38\\lib\\site-packages\\flask\\scaffold.py:56\u001b[0m, in \u001b[0;36msetupmethod.<locals>.wrapper_func\u001b[1;34m(self, *args, **kwargs)\u001b[0m\n\u001b[0;32m     45\u001b[0m \u001b[39mif\u001b[39;00m \u001b[39mself\u001b[39m\u001b[39m.\u001b[39m_is_setup_finished():\n\u001b[0;32m     46\u001b[0m     \u001b[39mraise\u001b[39;00m \u001b[39mAssertionError\u001b[39;00m(\n\u001b[0;32m     47\u001b[0m         \u001b[39m\"\u001b[39m\u001b[39mA setup function was called after the first request \u001b[39m\u001b[39m\"\u001b[39m\n\u001b[0;32m     48\u001b[0m         \u001b[39m\"\u001b[39m\u001b[39mwas handled. This usually indicates a bug in the\u001b[39m\u001b[39m\"\u001b[39m\n\u001b[1;32m   (...)\u001b[0m\n\u001b[0;32m     54\u001b[0m         \u001b[39m\"\u001b[39m\u001b[39m requests.\u001b[39m\u001b[39m\"\u001b[39m\n\u001b[0;32m     55\u001b[0m     )\n\u001b[1;32m---> 56\u001b[0m \u001b[39mreturn\u001b[39;00m f(\u001b[39mself\u001b[39;49m, \u001b[39m*\u001b[39;49margs, \u001b[39m*\u001b[39;49m\u001b[39m*\u001b[39;49mkwargs)\n",
      "File \u001b[1;32mc:\\Users\\ricky\\AppData\\Local\\Programs\\Python\\Python38\\lib\\site-packages\\flask\\app.py:1090\u001b[0m, in \u001b[0;36mFlask.add_url_rule\u001b[1;34m(self, rule, endpoint, view_func, provide_automatic_options, **options)\u001b[0m\n\u001b[0;32m   1088\u001b[0m old_func \u001b[39m=\u001b[39m \u001b[39mself\u001b[39m\u001b[39m.\u001b[39mview_functions\u001b[39m.\u001b[39mget(endpoint)\n\u001b[0;32m   1089\u001b[0m \u001b[39mif\u001b[39;00m old_func \u001b[39mis\u001b[39;00m \u001b[39mnot\u001b[39;00m \u001b[39mNone\u001b[39;00m \u001b[39mand\u001b[39;00m old_func \u001b[39m!=\u001b[39m view_func:\n\u001b[1;32m-> 1090\u001b[0m     \u001b[39mraise\u001b[39;00m \u001b[39mAssertionError\u001b[39;00m(\n\u001b[0;32m   1091\u001b[0m         \u001b[39m\"\u001b[39m\u001b[39mView function mapping is overwriting an existing\u001b[39m\u001b[39m\"\u001b[39m\n\u001b[0;32m   1092\u001b[0m         \u001b[39mf\u001b[39m\u001b[39m\"\u001b[39m\u001b[39m endpoint function: \u001b[39m\u001b[39m{\u001b[39;00mendpoint\u001b[39m}\u001b[39;00m\u001b[39m\"\u001b[39m\n\u001b[0;32m   1093\u001b[0m     )\n\u001b[0;32m   1094\u001b[0m \u001b[39mself\u001b[39m\u001b[39m.\u001b[39mview_functions[endpoint] \u001b[39m=\u001b[39m view_func\n",
      "\u001b[1;31mAssertionError\u001b[0m: View function mapping is overwriting an existing endpoint function: predict"
     ]
    }
   ],
   "source": [
    "@app.route('/')\n",
    "def index():\n",
    "    return render_template('index.html')\n",
    " \n",
    "@app.route('/predict')\n",
    "def predict():\n",
    "    return render_template('predict.html')\n",
    "\n",
    "@app.route('/predict', methods=['POST'])\n",
    "def upload_image():\n",
    "    if 'files[]' not in request.files:\n",
    "        flash('No file part')\n",
    "        return redirect(request.url)\n",
    "    files = request.files.getlist('files[]')\n",
    "    loaded_model = load_prediction_model()\n",
    "    file_names = []\n",
    "    pred_results = []\n",
    "    for file in files:\n",
    "        if file and allowed_file(file.filename):\n",
    "            filename = secure_filename(file.filename)\n",
    "            file_names.append(filename)\n",
    "\n",
    "            # print(__file__)\n",
    "            file.save(os.path.join(app.config['UPLOAD_FOLDER'], filename))\n",
    "            image = cv2.imread( app.config['UPLOAD_FOLDER'] + filename)\n",
    "            image = cv2.resize(image, tuple((224, 224)))   \n",
    "            image = np.reshape(image, [1, 224, 224, 3])\n",
    "            prediction = loaded_model.predict(image)\n",
    "            prediction = np.argmax(prediction)\n",
    "            pred_results.append(get_label(prediction))\n",
    "        else:\n",
    "            flash('Allowed image types are -> png, jpg, jpeg, gif')\n",
    "            return redirect(request.url)\n",
    " \n",
    "    return render_template('predict.html', filenames=file_names, predictions=pred_results, zip=zip)\n",
    " \n",
    "@app.route('/display/<filename>')\n",
    "def display_image(filename):\n",
    "    return redirect(url_for('static', filename='uploads/' + filename), code=301)\n",
    "\n",
    "\n",
    "@app.route('/info')\n",
    "def predict():\n",
    "    return render_template('info.html')\n",
    "\n"
   ]
  },
  {
   "cell_type": "code",
   "execution_count": null,
   "metadata": {},
   "outputs": [
    {
     "name": "stdout",
     "output_type": "stream",
     "text": [
      " * Serving Flask app '__main__' (lazy loading)\n",
      " * Environment: production\n",
      "\u001b[31m   WARNING: This is a development server. Do not use it in a production deployment.\u001b[0m\n",
      "\u001b[2m   Use a production WSGI server instead.\u001b[0m\n",
      " * Debug mode: off\n"
     ]
    },
    {
     "name": "stderr",
     "output_type": "stream",
     "text": [
      " * Running on http://127.0.0.1:5000 (Press CTRL+C to quit)\n",
      "127.0.0.1 - - [09/Jul/2022 12:59:07] \"GET / HTTP/1.1\" 200 -\n",
      "127.0.0.1 - - [09/Jul/2022 12:59:08] \"GET /static/styles/style.css HTTP/1.1\" 200 -\n",
      "127.0.0.1 - - [09/Jul/2022 12:59:08] \"GET /static/self_photo/foto%20hosea.jpeg HTTP/1.1\" 304 -\n",
      "127.0.0.1 - - [09/Jul/2022 12:59:08] \"GET /static/self_photo/foto%20ricky.jpeg HTTP/1.1\" 304 -\n",
      "127.0.0.1 - - [09/Jul/2022 12:59:08] \"GET /static/self_photo/foto%20natalis.jpeg HTTP/1.1\" 304 -\n",
      "127.0.0.1 - - [09/Jul/2022 12:59:08] \"GET /images/favicon.ico HTTP/1.1\" 404 -\n",
      "127.0.0.1 - - [09/Jul/2022 12:59:11] \"GET /predict HTTP/1.1\" 200 -\n",
      "127.0.0.1 - - [09/Jul/2022 12:59:11] \"GET /static/styles/style.css HTTP/1.1\" 304 -\n",
      "127.0.0.1 - - [09/Jul/2022 12:59:11] \"GET /favicon.ico HTTP/1.1\" 404 -\n",
      "127.0.0.1 - - [09/Jul/2022 12:59:12] \"GET / HTTP/1.1\" 200 -\n",
      "127.0.0.1 - - [09/Jul/2022 12:59:12] \"GET /static/styles/style.css HTTP/1.1\" 304 -\n",
      "127.0.0.1 - - [09/Jul/2022 12:59:12] \"GET /static/self_photo/foto%20natalis.jpeg HTTP/1.1\" 304 -\n",
      "127.0.0.1 - - [09/Jul/2022 12:59:12] \"GET /static/self_photo/foto%20hosea.jpeg HTTP/1.1\" 304 -\n",
      "127.0.0.1 - - [09/Jul/2022 12:59:12] \"GET /static/self_photo/foto%20ricky.jpeg HTTP/1.1\" 304 -\n",
      "127.0.0.1 - - [09/Jul/2022 12:59:13] \"GET /predict HTTP/1.1\" 200 -\n",
      "127.0.0.1 - - [09/Jul/2022 12:59:13] \"GET /static/styles/style.css HTTP/1.1\" 304 -\n",
      "127.0.0.1 - - [09/Jul/2022 12:59:14] \"GET /info.html/ HTTP/1.1\" 404 -\n"
     ]
    }
   ],
   "source": [
    "if __name__ == \"__main__\":\n",
    "    app.run()"
   ]
  }
 ],
 "metadata": {
  "interpreter": {
   "hash": "916dbcbb3f70747c44a77c7bcd40155683ae19c65e1c03b4aa3499c5328201f1"
  },
  "kernelspec": {
   "display_name": "Python 3.8.10 64-bit",
   "language": "python",
   "name": "python3"
  },
  "language_info": {
   "codemirror_mode": {
    "name": "ipython",
    "version": 3
   },
   "file_extension": ".py",
   "mimetype": "text/x-python",
   "name": "python",
   "nbconvert_exporter": "python",
   "pygments_lexer": "ipython3",
   "version": "3.8.10"
  },
  "orig_nbformat": 4
 },
 "nbformat": 4,
 "nbformat_minor": 2
}
